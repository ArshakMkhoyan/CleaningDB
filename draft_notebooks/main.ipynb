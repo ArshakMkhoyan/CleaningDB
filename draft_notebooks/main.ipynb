{
 "cells": [
  {
   "cell_type": "code",
   "execution_count": 12,
   "metadata": {},
   "outputs": [],
   "source": [
    "import os\n",
    "\n",
    "os.chdir('../mpdprocessing/src/processing_new/')"
   ]
  },
  {
   "cell_type": "code",
   "execution_count": 14,
   "metadata": {},
   "outputs": [],
   "source": [
    "import pandas as pd"
   ]
  },
  {
   "cell_type": "code",
   "execution_count": 15,
   "metadata": {},
   "outputs": [
    {
     "name": "stderr",
     "output_type": "stream",
     "text": [
      "/Users/Arshak/anaconda3/lib/python3.7/site-packages/pandas/core/frame.py:2963: SettingWithCopyWarning: \n",
      "A value is trying to be set on a copy of a slice from a DataFrame.\n",
      "Try using .loc[row_indexer,col_indexer] = value instead\n",
      "\n",
      "See the caveats in the documentation: https://pandas.pydata.org/pandas-docs/stable/user_guide/indexing.html#returning-a-view-versus-a-copy\n",
      "  self[k1] = value[k2]\n",
      "/Users/Arshak/Desktop/EventsMoon/mpdprocessing/src/processing_new/process_raw_data.py:16: SettingWithCopyWarning: \n",
      "A value is trying to be set on a copy of a slice from a DataFrame.\n",
      "Try using .loc[row_indexer,col_indexer] = value instead\n",
      "\n",
      "See the caveats in the documentation: https://pandas.pydata.org/pandas-docs/stable/user_guide/indexing.html#returning-a-view-versus-a-copy\n",
      "  event_df['description'] = event_df['description'].apply(remove_html_tag)\n"
     ]
    },
    {
     "name": "stdout",
     "output_type": "stream",
     "text": [
      "Shape of processing data: (144, 8)\n",
      "Source 'electrostub' processed. Shape of main event data: (143, 10)\n",
      "Shape of processing data: (5500, 8)\n",
      "Source 'ticketmaster' processed. Shape of main event data: (5559, 10)\n",
      "Shape of processing data: (165, 8)\n",
      "Source 'laughstub' processed. Shape of main event data: (5719, 10)\n",
      "Shape of processing data: (24, 8)\n",
      "Source 'viator' processed. Shape of main event data: (5729, 10)\n"
     ]
    },
    {
     "name": "stderr",
     "output_type": "stream",
     "text": [
      "/Users/Arshak/Desktop/EventsMoon/mpdprocessing/src/processing_new/utils.py:45: UserWarning: No parser was explicitly specified, so I'm using the best available HTML parser for this system (\"lxml\"). This usually isn't a problem, but if you run this code on another system, or in a different virtual environment, it may use a different parser and behave differently.\n",
      "\n",
      "The code that caused this warning is on line 45 of the file /Users/Arshak/Desktop/EventsMoon/mpdprocessing/src/processing_new/utils.py. To get rid of this warning, pass the additional argument 'features=\"lxml\"' to the BeautifulSoup constructor.\n",
      "\n",
      "  return BeautifulSoup(desc).text.strip()\n"
     ]
    },
    {
     "name": "stdout",
     "output_type": "stream",
     "text": [
      "Shape of processing data: (11804, 8)\n",
      "Source 'nightout' processed. Shape of main event data: (7775, 10)\n",
      "Shape of processing data: (548, 8)\n",
      "Source 'vegas4locals' processed. Shape of main event data: (7775, 10)\n",
      "Shape of processing data: (18, 8)\n",
      "Source 'visitphilly' processed. Shape of main event data: (7775, 10)\n",
      "Shape of processing data: (9, 8)\n",
      "Source 'losangeles' processed. Shape of main event data: (7783, 10)\n",
      "Shape of processing data: (2416, 8)\n",
      "Source 'thebostoncalendar' processed. Shape of main event data: (8382, 10)\n",
      "Shape of processing data: (455, 8)\n",
      "Source 'courant' processed. Shape of main event data: (8627, 10)\n",
      "Shape of processing data: (21047, 8)\n",
      "Source 'songkick' processed. Shape of main event data: (13666, 10)\n",
      "Shape of processing data: (5079, 8)\n",
      "Source 'fairsandfestivals' processed. Shape of main event data: (18361, 10)\n",
      "Shape of processing data: (22635, 8)\n",
      "Source 'eventbrite' processed. Shape of main event data: (32055, 10)\n",
      "Shape of processing data: (37, 8)\n",
      "Source 'newhavenarts' processed. Shape of main event data: (32055, 10)\n",
      "Shape of processing data: (69, 8)\n",
      "Source 'atlanta' processed. Shape of main event data: (32106, 10)\n",
      "Shape of processing data: (308, 8)\n",
      "Source 'exploregeorgia' processed. Shape of main event data: (32364, 10)\n",
      "Shape of processing data: (39, 8)\n",
      "Source 'livenation' processed. Shape of main event data: (32390, 10)\n",
      "Shape of processing data: (195, 8)\n",
      "Source 'charlottesgotalot' processed. Shape of main event data: (32464, 10)\n",
      "Shape of processing data: (257, 8)\n",
      "Source 'bostonusa' processed. Shape of main event data: (32510, 10)\n",
      "Shape of processing data: (96, 8)\n",
      "Source 'gametime' processed. Shape of main event data: (32555, 10)\n",
      "Shape of processing data: (6437, 8)\n",
      "Source 'eventfest' processed. Shape of main event data: (37376, 10)\n"
     ]
    },
    {
     "name": "stderr",
     "output_type": "stream",
     "text": [
      "/Users/Arshak/Desktop/EventsMoon/mpdprocessing/src/processing_new/process_raw_data.py:138: SettingWithCopyWarning: \n",
      "A value is trying to be set on a copy of a slice from a DataFrame\n",
      "\n",
      "See the caveats in the documentation: https://pandas.pydata.org/pandas-docs/stable/user_guide/indexing.html#returning-a-view-versus-a-copy\n",
      "  event_new_df['is_virtual'][virtual_mask] = 1\n",
      "/Users/Arshak/Desktop/EventsMoon/mpdprocessing/src/processing_new/process_raw_data.py:142: SettingWithCopyWarning: \n",
      "A value is trying to be set on a copy of a slice from a DataFrame\n",
      "\n",
      "See the caveats in the documentation: https://pandas.pydata.org/pandas-docs/stable/user_guide/indexing.html#returning-a-view-versus-a-copy\n",
      "  event_new_df['is_virtual'][live_mask] = 2\n"
     ]
    },
    {
     "name": "stdout",
     "output_type": "stream",
     "text": [
      "Event shape: (37376, 10)\n",
      "Time shape (37878, 10)\n",
      "Price shape: (64059, 14)\n",
      "Deleted event table rows\n",
      "Deleted time table rows\n",
      "Deleted price table rows\n",
      "Deleted tag table rows\n",
      "Deleted subcategory table rows\n",
      "Deleted category table rows\n",
      "Deleted tag__event table rows\n",
      "Deleted subcategory__tag table rows\n",
      "Deleted category__subcategory table rows\n",
      "Added table: event\n"
     ]
    },
    {
     "name": "stderr",
     "output_type": "stream",
     "text": [
      "/Users/Arshak/Desktop/EventsMoon/mpdprocessing/src/processing_new/utils.py:61: SettingWithCopyWarning: \n",
      "A value is trying to be set on a copy of a slice from a DataFrame.\n",
      "Try using .loc[row_indexer,col_indexer] = value instead\n",
      "\n",
      "See the caveats in the documentation: https://pandas.pydata.org/pandas-docs/stable/user_guide/indexing.html#returning-a-view-versus-a-copy\n",
      "  ids['id_db'] = ids_added\n"
     ]
    },
    {
     "name": "stdout",
     "output_type": "stream",
     "text": [
      "Added table: time\n",
      "Added table: price\n",
      "Unique tags to process: 125\n",
      "Added table: tag\n",
      "Added table: subcategory\n",
      "Added table: category\n",
      "Added table: tag__event\n",
      "Added table: subcategory__tag\n",
      "Added table: category__subcategory\n",
      "Finished\n"
     ]
    }
   ],
   "source": [
    "from process_raw_data import process_raw_data\n",
    "from process_tags import process_tags\n",
    "from push_clean_data import push_clean_data\n",
    "from remove_tables import delete_data_in_all_tables\n",
    "\n",
    "event_df_py, time_df_py, price_df_py = process_raw_data()\n",
    "delete_data_in_all_tables()\n",
    "event2time = push_clean_data(event_df_py, time_df_py, price_df_py)\n",
    "process_tags(event_df_py, event2time)\n"
   ]
  },
  {
   "cell_type": "code",
   "execution_count": 16,
   "metadata": {},
   "outputs": [
    {
     "data": {
      "text/plain": [
       "0    36609\n",
       "1      757\n",
       "2       10\n",
       "Name: is_virtual, dtype: int64"
      ]
     },
     "execution_count": 16,
     "metadata": {},
     "output_type": "execute_result"
    }
   ],
   "source": [
    "event_df_py['is_virtual'].value_counts()"
   ]
  },
  {
   "cell_type": "markdown",
   "metadata": {},
   "source": [
    "# Utills"
   ]
  },
  {
   "cell_type": "code",
   "execution_count": 3,
   "metadata": {},
   "outputs": [],
   "source": [
    "import string\n",
    "from nltk.corpus import stopwords\n",
    "from nltk.stem import PorterStemmer\n",
    "from sqlalchemy import create_engine\n",
    "import pandas as pd\n",
    "\n",
    "def remove_punctuations(input_str):\n",
    "    exclude = set(string.punctuation)\n",
    "    return ''.join(ch for ch in input_str if ch not in exclude)\n",
    "\n",
    "def remove_stopwords(input_str):\n",
    "    stop_words = stopwords.words('english')\n",
    "    seperated_words = input_str.split()\n",
    "    perc = sum(1 for word in seperated_words if word in stop_words) / len(seperated_words)\n",
    "    if perc < 0.6:\n",
    "        return ' '.join(word for word in seperated_words if word not in stop_words)\n",
    "    else:\n",
    "        return ' '.join(seperated_words)\n",
    "\n",
    "def imply_stemming(input_str):\n",
    "    stemmer = PorterStemmer()\n",
    "    return ' '.join(stemmer.stem(word) for word in input_str.split())"
   ]
  },
  {
   "cell_type": "markdown",
   "metadata": {},
   "source": [
    "# Affiliate check"
   ]
  },
  {
   "cell_type": "code",
   "execution_count": 3,
   "metadata": {},
   "outputs": [],
   "source": [
    "engine = create_engine(\"mysql+pymysql://{user}:{pw}@{host}/{db}\"\n",
    "                       .format(host=\"3.15.229.129\",\n",
    "                               user=\"root\",\n",
    "                               pw=\"RrL76~y&w)~K7/@X\",\n",
    "                               db=\"mpdscraping\"))\n",
    "\n",
    "affilliate = pd.read_sql(\"SELECT * FROM mpdscraping.raw_event where is_affiliate=1;\", engine)"
   ]
  },
  {
   "cell_type": "code",
   "execution_count": 18,
   "metadata": {},
   "outputs": [
    {
     "name": "stdout",
     "output_type": "stream",
     "text": [
      "(5951, 8)\n"
     ]
    },
    {
     "data": {
      "text/plain": [
       "ticketmaster    5500\n",
       "laughstub        179\n",
       "electrostub      165\n",
       "livenation       107\n",
       "Name: source, dtype: int64"
      ]
     },
     "execution_count": 18,
     "metadata": {},
     "output_type": "execute_result"
    }
   ],
   "source": [
    "print(affilliate.shape)\n",
    "affilliate['source'].value_counts()"
   ]
  },
  {
   "cell_type": "code",
   "execution_count": 16,
   "metadata": {},
   "outputs": [
    {
     "data": {
      "text/plain": [
       "5917"
      ]
     },
     "execution_count": 16,
     "metadata": {},
     "output_type": "execute_result"
    }
   ],
   "source": [
    "affilliate['url'].nunique()"
   ]
  },
  {
   "cell_type": "code",
   "execution_count": 21,
   "metadata": {},
   "outputs": [
    {
     "data": {
      "text/plain": [
       "(5937, 9)"
      ]
     },
     "execution_count": 21,
     "metadata": {},
     "output_type": "execute_result"
    }
   ],
   "source": [
    "affilliate = affilliate.dropna(subset=['title', 'url'])\n",
    "affilliate.shape"
   ]
  },
  {
   "cell_type": "code",
   "execution_count": 24,
   "metadata": {},
   "outputs": [],
   "source": [
    "affilliate['title_modified'] = affilliate['title'].str.lower()\n",
    "affilliate['title_modified'] = affilliate['title_modified'].apply(remove_punctuations)\n",
    "affilliate['title_modified'] = affilliate['title_modified'].apply(remove_stopwords)\n",
    "affilliate['title_modified'] = affilliate['title_modified'].apply(imply_stemming)\n",
    "affilliate['title_modified'] = affilliate['title_modified'].apply(lambda x: ' '.join(sorted(x.split())))"
   ]
  },
  {
   "cell_type": "code",
   "execution_count": 28,
   "metadata": {},
   "outputs": [
    {
     "data": {
      "text/plain": [
       "(1530, 9)"
      ]
     },
     "execution_count": 28,
     "metadata": {},
     "output_type": "execute_result"
    }
   ],
   "source": [
    "affilliate[affilliate['source'] == 'ticketmaster'].drop_duplicates('title_modified').shape"
   ]
  },
  {
   "cell_type": "code",
   "execution_count": null,
   "metadata": {},
   "outputs": [],
   "source": []
  },
  {
   "cell_type": "code",
   "execution_count": 14,
   "metadata": {},
   "outputs": [],
   "source": [
    "engine = create_engine(\"mysql+pymysql://{user}:{pw}@{host}/{db}\"\n",
    "                       .format(host=\"3.15.229.129\",\n",
    "                               user=\"root\",\n",
    "                               pw=\"RrL76~y&w)~K7/@X\",\n",
    "                               db=\"mpdprocessing_new\"))\n",
    "\n",
    "df = pd.read_sql(\"select * from event;\", engine)"
   ]
  },
  {
   "cell_type": "code",
   "execution_count": 15,
   "metadata": {},
   "outputs": [
    {
     "data": {
      "text/plain": [
       "ticketmaster    1454\n",
       "laughstub        157\n",
       "electrostub      149\n",
       "livenation        81\n",
       "Name: source, dtype: int64"
      ]
     },
     "execution_count": 15,
     "metadata": {},
     "output_type": "execute_result"
    }
   ],
   "source": [
    "affilliate_proc = df[df['is_affiliate'].apply(bool)]\n",
    "affilliate_proc['source'].value_counts()"
   ]
  },
  {
   "cell_type": "code",
   "execution_count": 19,
   "metadata": {},
   "outputs": [
    {
     "data": {
      "text/plain": [
       "(1804, 10)"
      ]
     },
     "execution_count": 19,
     "metadata": {},
     "output_type": "execute_result"
    }
   ],
   "source": [
    "event_df_py[event_df_py['is_affiliate'].apply(bool)].shape"
   ]
  },
  {
   "cell_type": "code",
   "execution_count": 24,
   "metadata": {},
   "outputs": [
    {
     "data": {
      "text/plain": [
       "(307168, 8)"
      ]
     },
     "execution_count": 24,
     "metadata": {},
     "output_type": "execute_result"
    }
   ],
   "source": [
    "df_scraped.shape"
   ]
  },
  {
   "cell_type": "code",
   "execution_count": 25,
   "metadata": {},
   "outputs": [
    {
     "data": {
      "text/plain": [
       "(93863, 8)"
      ]
     },
     "execution_count": 25,
     "metadata": {},
     "output_type": "execute_result"
    }
   ],
   "source": [
    "df_scraped_no_dup = df_scraped.drop_duplicates(subset=['url', 'title', 'image_url', 'description',\n",
    "                                   'source', 'tags', 'is_affiliate'])\n",
    "df_scraped_no_dup.shape"
   ]
  },
  {
   "cell_type": "code",
   "execution_count": 26,
   "metadata": {},
   "outputs": [
    {
     "data": {
      "text/plain": [
       "(6039, 8)"
      ]
     },
     "execution_count": 26,
     "metadata": {},
     "output_type": "execute_result"
    }
   ],
   "source": [
    "df_scraped_no_dup[df_scraped_no_dup['is_affiliate'].apply(bool)].shape"
   ]
  },
  {
   "cell_type": "code",
   "execution_count": 20,
   "metadata": {},
   "outputs": [
    {
     "data": {
      "text/plain": [
       "(6053, 8)"
      ]
     },
     "execution_count": 20,
     "metadata": {},
     "output_type": "execute_result"
    }
   ],
   "source": [
    "df_scraped[df_scraped['is_affiliate'].apply(bool)].shape"
   ]
  },
  {
   "cell_type": "code",
   "execution_count": 17,
   "metadata": {
    "collapsed": true
   },
   "outputs": [
    {
     "data": {
      "text/html": [
       "<div>\n",
       "<style scoped>\n",
       "    .dataframe tbody tr th:only-of-type {\n",
       "        vertical-align: middle;\n",
       "    }\n",
       "\n",
       "    .dataframe tbody tr th {\n",
       "        vertical-align: top;\n",
       "    }\n",
       "\n",
       "    .dataframe thead th {\n",
       "        text-align: right;\n",
       "    }\n",
       "</style>\n",
       "<table border=\"1\" class=\"dataframe\">\n",
       "  <thead>\n",
       "    <tr style=\"text-align: right;\">\n",
       "      <th></th>\n",
       "      <th>id</th>\n",
       "      <th>url</th>\n",
       "      <th>title</th>\n",
       "      <th>image_url</th>\n",
       "      <th>description</th>\n",
       "      <th>source</th>\n",
       "      <th>tags</th>\n",
       "      <th>is_affiliate</th>\n",
       "    </tr>\n",
       "  </thead>\n",
       "  <tbody>\n",
       "    <tr>\n",
       "      <th>0</th>\n",
       "      <td>5333352</td>\n",
       "      <td>https://www.eventbrite.com/e/together-2020-tic...</td>\n",
       "      <td>Together 2020</td>\n",
       "      <td>https://img.evbuc.com/https%3A%2F%2Fcdn.evbuc....</td>\n",
       "      <td>Together 2020 will be an immersive experience ...</td>\n",
       "      <td>eventbrite</td>\n",
       "      <td>None</td>\n",
       "      <td>0</td>\n",
       "    </tr>\n",
       "    <tr>\n",
       "      <th>1</th>\n",
       "      <td>5333353</td>\n",
       "      <td>https://www.eventbrite.com/e/together-2020-tic...</td>\n",
       "      <td>Together 2020</td>\n",
       "      <td>https://img.evbuc.com/https%3A%2F%2Fcdn.evbuc....</td>\n",
       "      <td>Together 2020 will be an immersive experience ...</td>\n",
       "      <td>eventbrite</td>\n",
       "      <td>None</td>\n",
       "      <td>0</td>\n",
       "    </tr>\n",
       "    <tr>\n",
       "      <th>2</th>\n",
       "      <td>5333354</td>\n",
       "      <td>https://www.eventbrite.com/e/research-in-the-s...</td>\n",
       "      <td>Research in the States: Massachusetts and Maine</td>\n",
       "      <td>https://img.evbuc.com/https%3A%2F%2Fcdn.evbuc....</td>\n",
       "      <td>Many of us have roots that pass through Massac...</td>\n",
       "      <td>eventbrite</td>\n",
       "      <td>None</td>\n",
       "      <td>0</td>\n",
       "    </tr>\n",
       "    <tr>\n",
       "      <th>3</th>\n",
       "      <td>5333355</td>\n",
       "      <td>https://www.eventbrite.com/e/research-in-the-s...</td>\n",
       "      <td>Research in the States: Massachusetts and Maine</td>\n",
       "      <td>https://img.evbuc.com/https%3A%2F%2Fcdn.evbuc....</td>\n",
       "      <td>Many of us have roots that pass through Massac...</td>\n",
       "      <td>eventbrite</td>\n",
       "      <td>None</td>\n",
       "      <td>0</td>\n",
       "    </tr>\n",
       "    <tr>\n",
       "      <th>4</th>\n",
       "      <td>5333356</td>\n",
       "      <td>https://www.eventbrite.com/e/strategic-systems...</td>\n",
       "      <td>Strategic Systems Programs Job Fair – Septembe...</td>\n",
       "      <td>https://img.evbuc.com/https%3A%2F%2Fcdn.evbuc....</td>\n",
       "      <td>FREE ADMISSION FOR ALL JOB SEEKERS!  Register ...</td>\n",
       "      <td>eventbrite</td>\n",
       "      <td>None</td>\n",
       "      <td>0</td>\n",
       "    </tr>\n",
       "  </tbody>\n",
       "</table>\n",
       "</div>"
      ],
      "text/plain": [
       "        id                                                url  \\\n",
       "0  5333352  https://www.eventbrite.com/e/together-2020-tic...   \n",
       "1  5333353  https://www.eventbrite.com/e/together-2020-tic...   \n",
       "2  5333354  https://www.eventbrite.com/e/research-in-the-s...   \n",
       "3  5333355  https://www.eventbrite.com/e/research-in-the-s...   \n",
       "4  5333356  https://www.eventbrite.com/e/strategic-systems...   \n",
       "\n",
       "                                               title  \\\n",
       "0                                      Together 2020   \n",
       "1                                      Together 2020   \n",
       "2    Research in the States: Massachusetts and Maine   \n",
       "3    Research in the States: Massachusetts and Maine   \n",
       "4  Strategic Systems Programs Job Fair – Septembe...   \n",
       "\n",
       "                                           image_url  \\\n",
       "0  https://img.evbuc.com/https%3A%2F%2Fcdn.evbuc....   \n",
       "1  https://img.evbuc.com/https%3A%2F%2Fcdn.evbuc....   \n",
       "2  https://img.evbuc.com/https%3A%2F%2Fcdn.evbuc....   \n",
       "3  https://img.evbuc.com/https%3A%2F%2Fcdn.evbuc....   \n",
       "4  https://img.evbuc.com/https%3A%2F%2Fcdn.evbuc....   \n",
       "\n",
       "                                         description      source  tags  \\\n",
       "0  Together 2020 will be an immersive experience ...  eventbrite  None   \n",
       "1  Together 2020 will be an immersive experience ...  eventbrite  None   \n",
       "2  Many of us have roots that pass through Massac...  eventbrite  None   \n",
       "3  Many of us have roots that pass through Massac...  eventbrite  None   \n",
       "4  FREE ADMISSION FOR ALL JOB SEEKERS!  Register ...  eventbrite  None   \n",
       "\n",
       "   is_affiliate  \n",
       "0             0  \n",
       "1             0  \n",
       "2             0  \n",
       "3             0  \n",
       "4             0  "
      ]
     },
     "execution_count": 17,
     "metadata": {},
     "output_type": "execute_result"
    }
   ],
   "source": [
    "df_scraped.head()"
   ]
  },
  {
   "cell_type": "markdown",
   "metadata": {},
   "source": [
    "# Check number of unique events for each source"
   ]
  },
  {
   "cell_type": "code",
   "execution_count": 2,
   "metadata": {},
   "outputs": [
    {
     "name": "stdout",
     "output_type": "stream",
     "text": [
      "(428890, 8)\n"
     ]
    }
   ],
   "source": [
    "engine = create_engine(\"mysql+pymysql://{user}:{pw}@{host}/{db}\"\n",
    "                       .format(host=\"3.15.229.129\",\n",
    "                               user=\"root\",\n",
    "                               pw=\"RrL76~y&w)~K7/@X\",\n",
    "                               db=\"mpdscraping\"))\n",
    "\n",
    "query = \"SELECT * FROM mpdscraping.raw_event;\"\n",
    "df_all = pd.read_sql(query, engine)\n",
    "print(df_all.shape)"
   ]
  },
  {
   "cell_type": "code",
   "execution_count": 3,
   "metadata": {},
   "outputs": [
    {
     "name": "stderr",
     "output_type": "stream",
     "text": [
      "/Users/Arshak/anaconda3/lib/python3.7/site-packages/ipykernel_launcher.py:10: RuntimeWarning: invalid value encountered in long_scalars\n",
      "  # Remove the CWD from sys.path while we load stuff.\n"
     ]
    }
   ],
   "source": [
    "def count_unique(x):\n",
    "    return x.nunique()\n",
    "count_unique.__name__ = 'Unique'\n",
    "\n",
    "def count_total(x):\n",
    "    return x.count()\n",
    "count_total.__name__ = 'Total'\n",
    "\n",
    "def get_percent(x):\n",
    "    return round(x.nunique() / x.count(), 3)\n",
    "get_percent.__name__ = '%'\n",
    "\n",
    "df_unique = df_all.groupby('source').agg({'url': [count_total, count_unique, get_percent]})['url']\n",
    "df_unique = df_unique.sort_values(['%'], ascending=False)"
   ]
  },
  {
   "cell_type": "code",
   "execution_count": 4,
   "metadata": {},
   "outputs": [
    {
     "data": {
      "text/html": [
       "<div>\n",
       "<style scoped>\n",
       "    .dataframe tbody tr th:only-of-type {\n",
       "        vertical-align: middle;\n",
       "    }\n",
       "\n",
       "    .dataframe tbody tr th {\n",
       "        vertical-align: top;\n",
       "    }\n",
       "\n",
       "    .dataframe thead th {\n",
       "        text-align: right;\n",
       "    }\n",
       "</style>\n",
       "<table border=\"1\" class=\"dataframe\">\n",
       "  <thead>\n",
       "    <tr style=\"text-align: right;\">\n",
       "      <th></th>\n",
       "      <th>Total</th>\n",
       "      <th>Unique</th>\n",
       "      <th>%</th>\n",
       "    </tr>\n",
       "    <tr>\n",
       "      <th>source</th>\n",
       "      <th></th>\n",
       "      <th></th>\n",
       "      <th></th>\n",
       "    </tr>\n",
       "  </thead>\n",
       "  <tbody>\n",
       "    <tr>\n",
       "      <th>atlanta</th>\n",
       "      <td>52</td>\n",
       "      <td>52</td>\n",
       "      <td>1.000</td>\n",
       "    </tr>\n",
       "    <tr>\n",
       "      <th>fairsandfestivals</th>\n",
       "      <td>10107</td>\n",
       "      <td>10107</td>\n",
       "      <td>1.000</td>\n",
       "    </tr>\n",
       "    <tr>\n",
       "      <th>vegas4locals</th>\n",
       "      <td>542</td>\n",
       "      <td>542</td>\n",
       "      <td>1.000</td>\n",
       "    </tr>\n",
       "    <tr>\n",
       "      <th>ticketmaster</th>\n",
       "      <td>5500</td>\n",
       "      <td>5500</td>\n",
       "      <td>1.000</td>\n",
       "    </tr>\n",
       "    <tr>\n",
       "      <th>newhavenarts</th>\n",
       "      <td>35</td>\n",
       "      <td>35</td>\n",
       "      <td>1.000</td>\n",
       "    </tr>\n",
       "    <tr>\n",
       "      <th>gametime</th>\n",
       "      <td>95</td>\n",
       "      <td>95</td>\n",
       "      <td>1.000</td>\n",
       "    </tr>\n",
       "    <tr>\n",
       "      <th>laughstub</th>\n",
       "      <td>179</td>\n",
       "      <td>179</td>\n",
       "      <td>1.000</td>\n",
       "    </tr>\n",
       "    <tr>\n",
       "      <th>electrostub</th>\n",
       "      <td>165</td>\n",
       "      <td>165</td>\n",
       "      <td>1.000</td>\n",
       "    </tr>\n",
       "    <tr>\n",
       "      <th>charlottesgotalot</th>\n",
       "      <td>201</td>\n",
       "      <td>201</td>\n",
       "      <td>1.000</td>\n",
       "    </tr>\n",
       "    <tr>\n",
       "      <th>nightout</th>\n",
       "      <td>24213</td>\n",
       "      <td>24187</td>\n",
       "      <td>0.999</td>\n",
       "    </tr>\n",
       "    <tr>\n",
       "      <th>thebostoncalendar</th>\n",
       "      <td>2128</td>\n",
       "      <td>2126</td>\n",
       "      <td>0.999</td>\n",
       "    </tr>\n",
       "    <tr>\n",
       "      <th>visitphilly</th>\n",
       "      <td>19</td>\n",
       "      <td>18</td>\n",
       "      <td>0.947</td>\n",
       "    </tr>\n",
       "    <tr>\n",
       "      <th>eventfest</th>\n",
       "      <td>3414</td>\n",
       "      <td>2796</td>\n",
       "      <td>0.819</td>\n",
       "    </tr>\n",
       "    <tr>\n",
       "      <th>songkick</th>\n",
       "      <td>29288</td>\n",
       "      <td>23277</td>\n",
       "      <td>0.795</td>\n",
       "    </tr>\n",
       "    <tr>\n",
       "      <th>livenation</th>\n",
       "      <td>107</td>\n",
       "      <td>73</td>\n",
       "      <td>0.682</td>\n",
       "    </tr>\n",
       "    <tr>\n",
       "      <th>courant</th>\n",
       "      <td>703</td>\n",
       "      <td>398</td>\n",
       "      <td>0.566</td>\n",
       "    </tr>\n",
       "    <tr>\n",
       "      <th>nyc</th>\n",
       "      <td>380</td>\n",
       "      <td>187</td>\n",
       "      <td>0.492</td>\n",
       "    </tr>\n",
       "    <tr>\n",
       "      <th>eventbrite</th>\n",
       "      <td>254650</td>\n",
       "      <td>60937</td>\n",
       "      <td>0.239</td>\n",
       "    </tr>\n",
       "    <tr>\n",
       "      <th>exploregeorgia</th>\n",
       "      <td>2655</td>\n",
       "      <td>346</td>\n",
       "      <td>0.130</td>\n",
       "    </tr>\n",
       "    <tr>\n",
       "      <th>losangeles</th>\n",
       "      <td>755</td>\n",
       "      <td>9</td>\n",
       "      <td>0.012</td>\n",
       "    </tr>\n",
       "    <tr>\n",
       "      <th>bostonusa</th>\n",
       "      <td>88077</td>\n",
       "      <td>266</td>\n",
       "      <td>0.003</td>\n",
       "    </tr>\n",
       "  </tbody>\n",
       "</table>\n",
       "</div>"
      ],
      "text/plain": [
       "                    Total  Unique      %\n",
       "source                                  \n",
       "atlanta                52      52  1.000\n",
       "fairsandfestivals   10107   10107  1.000\n",
       "vegas4locals          542     542  1.000\n",
       "ticketmaster         5500    5500  1.000\n",
       "newhavenarts           35      35  1.000\n",
       "gametime               95      95  1.000\n",
       "laughstub             179     179  1.000\n",
       "electrostub           165     165  1.000\n",
       "charlottesgotalot     201     201  1.000\n",
       "nightout            24213   24187  0.999\n",
       "thebostoncalendar    2128    2126  0.999\n",
       "visitphilly            19      18  0.947\n",
       "eventfest            3414    2796  0.819\n",
       "songkick            29288   23277  0.795\n",
       "livenation            107      73  0.682\n",
       "courant               703     398  0.566\n",
       "nyc                   380     187  0.492\n",
       "eventbrite         254650   60937  0.239\n",
       "exploregeorgia       2655     346  0.130\n",
       "losangeles            755       9  0.012\n",
       "bostonusa           88077     266  0.003"
      ]
     },
     "execution_count": 4,
     "metadata": {},
     "output_type": "execute_result"
    }
   ],
   "source": [
    "df_unique"
   ]
  },
  {
   "cell_type": "code",
   "execution_count": 5,
   "metadata": {},
   "outputs": [],
   "source": [
    "# df_unique.to_excel('Scrapped_Data_statistics.xlsx', index=False)"
   ]
  },
  {
   "cell_type": "code",
   "execution_count": null,
   "metadata": {},
   "outputs": [],
   "source": []
  },
  {
   "cell_type": "markdown",
   "metadata": {},
   "source": [
    "# Check particular source"
   ]
  },
  {
   "cell_type": "code",
   "execution_count": 3,
   "metadata": {},
   "outputs": [],
   "source": [
    "engine = create_engine(\"mysql+pymysql://{user}:{pw}@{host}/{db}\"\n",
    "                       .format(host=\"3.15.229.129\",\n",
    "                               user=\"root\",\n",
    "                               pw=\"RrL76~y&w)~K7/@X\",\n",
    "                               db=\"mpdscraping\"))\n",
    "\n",
    "query = \"SELECT * FROM mpdscraping.raw_event where source='losangeles';\"\n",
    "df = pd.read_sql(query, engine)"
   ]
  },
  {
   "cell_type": "code",
   "execution_count": 5,
   "metadata": {},
   "outputs": [
    {
     "data": {
      "text/plain": [
       "9"
      ]
     },
     "execution_count": 5,
     "metadata": {},
     "output_type": "execute_result"
    }
   ],
   "source": [
    "df['url'].nunique()"
   ]
  },
  {
   "cell_type": "markdown",
   "metadata": {},
   "source": [
    "# Check details"
   ]
  },
  {
   "cell_type": "code",
   "execution_count": 6,
   "metadata": {},
   "outputs": [
    {
     "data": {
      "text/html": [
       "<div>\n",
       "<style scoped>\n",
       "    .dataframe tbody tr th:only-of-type {\n",
       "        vertical-align: middle;\n",
       "    }\n",
       "\n",
       "    .dataframe tbody tr th {\n",
       "        vertical-align: top;\n",
       "    }\n",
       "\n",
       "    .dataframe thead th {\n",
       "        text-align: right;\n",
       "    }\n",
       "</style>\n",
       "<table border=\"1\" class=\"dataframe\">\n",
       "  <thead>\n",
       "    <tr style=\"text-align: right;\">\n",
       "      <th></th>\n",
       "      <th>id</th>\n",
       "      <th>url</th>\n",
       "      <th>title</th>\n",
       "      <th>image_url</th>\n",
       "      <th>description</th>\n",
       "      <th>source</th>\n",
       "      <th>tags</th>\n",
       "      <th>is_affiliate</th>\n",
       "    </tr>\n",
       "  </thead>\n",
       "  <tbody>\n",
       "    <tr>\n",
       "      <th>0</th>\n",
       "      <td>5734606</td>\n",
       "      <td>https://www.vegas4locals.com/event/big-bus-tou...</td>\n",
       "      <td>Big Bus Tours</td>\n",
       "      <td>https://www.vegas4locals.com/wp-content/upload...</td>\n",
       "      <td>Don’t miss a single thing while in Las Vegas! ...</td>\n",
       "      <td>vegas4locals</td>\n",
       "      <td>Confirmed</td>\n",
       "      <td>0</td>\n",
       "    </tr>\n",
       "    <tr>\n",
       "      <th>1</th>\n",
       "      <td>5734607</td>\n",
       "      <td>https://www.awin1.com/cread.php?awinmid=6199&amp;a...</td>\n",
       "      <td>Brunch at the Castle</td>\n",
       "      <td>https://images.stubsites.com/webassets.ticketm...</td>\n",
       "      <td>Enjoy a truly unique outing with friends and f...</td>\n",
       "      <td>electrostub</td>\n",
       "      <td>music, electronic</td>\n",
       "      <td>1</td>\n",
       "    </tr>\n",
       "    <tr>\n",
       "      <th>2</th>\n",
       "      <td>5734608</td>\n",
       "      <td>https://nightout.com/events/brian-regan-live-d...</td>\n",
       "      <td>BRIAN REGAN: LIVE at the Drive-In Tour (Fort ...</td>\n",
       "      <td>https://nightout.s3.amazonaws.com/media/poster...</td>\n",
       "      <td>BRIAN REGAN Drive-In Tour (Fort Collins, CO) -...</td>\n",
       "      <td>nightout</td>\n",
       "      <td>Concert, Live Music, Comedy, Charity &amp; Causes,...</td>\n",
       "      <td>0</td>\n",
       "    </tr>\n",
       "    <tr>\n",
       "      <th>3</th>\n",
       "      <td>5734609</td>\n",
       "      <td>https://www.vegas4locals.com/event/wicked-spoo...</td>\n",
       "      <td>Wicked Spoon Brunch</td>\n",
       "      <td>https://www.vegas4locals.com/wp-content/upload...</td>\n",
       "      <td>The Wicked Spoon at the Cosmopolitan Hotel is ...</td>\n",
       "      <td>vegas4locals</td>\n",
       "      <td>Confirmed,Food and Beverage</td>\n",
       "      <td>0</td>\n",
       "    </tr>\n",
       "    <tr>\n",
       "      <th>4</th>\n",
       "      <td>5734610</td>\n",
       "      <td>https://www.awin1.com/cread.php?awinmid=6199&amp;a...</td>\n",
       "      <td>None</td>\n",
       "      <td>/app/assets/tunestub/images/placeholder.jpg</td>\n",
       "      <td>None</td>\n",
       "      <td>electrostub</td>\n",
       "      <td>music, electronic</td>\n",
       "      <td>1</td>\n",
       "    </tr>\n",
       "  </tbody>\n",
       "</table>\n",
       "</div>"
      ],
      "text/plain": [
       "        id                                                url  \\\n",
       "0  5734606  https://www.vegas4locals.com/event/big-bus-tou...   \n",
       "1  5734607  https://www.awin1.com/cread.php?awinmid=6199&a...   \n",
       "2  5734608  https://nightout.com/events/brian-regan-live-d...   \n",
       "3  5734609  https://www.vegas4locals.com/event/wicked-spoo...   \n",
       "4  5734610  https://www.awin1.com/cread.php?awinmid=6199&a...   \n",
       "\n",
       "                                               title  \\\n",
       "0                                      Big Bus Tours   \n",
       "1                               Brunch at the Castle   \n",
       "2   BRIAN REGAN: LIVE at the Drive-In Tour (Fort ...   \n",
       "3                                Wicked Spoon Brunch   \n",
       "4                                               None   \n",
       "\n",
       "                                           image_url  \\\n",
       "0  https://www.vegas4locals.com/wp-content/upload...   \n",
       "1  https://images.stubsites.com/webassets.ticketm...   \n",
       "2  https://nightout.s3.amazonaws.com/media/poster...   \n",
       "3  https://www.vegas4locals.com/wp-content/upload...   \n",
       "4        /app/assets/tunestub/images/placeholder.jpg   \n",
       "\n",
       "                                         description        source  \\\n",
       "0  Don’t miss a single thing while in Las Vegas! ...  vegas4locals   \n",
       "1  Enjoy a truly unique outing with friends and f...   electrostub   \n",
       "2  BRIAN REGAN Drive-In Tour (Fort Collins, CO) -...      nightout   \n",
       "3  The Wicked Spoon at the Cosmopolitan Hotel is ...  vegas4locals   \n",
       "4                                               None   electrostub   \n",
       "\n",
       "                                                tags  is_affiliate  \n",
       "0                                          Confirmed             0  \n",
       "1                                  music, electronic             1  \n",
       "2  Concert, Live Music, Comedy, Charity & Causes,...             0  \n",
       "3                        Confirmed,Food and Beverage             0  \n",
       "4                                  music, electronic             1  "
      ]
     },
     "execution_count": 6,
     "metadata": {},
     "output_type": "execute_result"
    }
   ],
   "source": [
    "df_all.head()"
   ]
  },
  {
   "cell_type": "markdown",
   "metadata": {},
   "source": [
    "## Check if url exists"
   ]
  },
  {
   "cell_type": "code",
   "execution_count": 4,
   "metadata": {},
   "outputs": [],
   "source": [
    "from sqlalchemy import create_engine\n",
    "import pandas as pd\n",
    "import requests"
   ]
  },
  {
   "cell_type": "code",
   "execution_count": 5,
   "metadata": {},
   "outputs": [],
   "source": [
    "engine_process = create_engine(\"mysql+pymysql://{user}:{pw}@{host}/{db}\"\n",
    "                       .format(host=\"3.15.229.129\",\n",
    "                               user=\"root\",\n",
    "                               pw=\"RrL76~y&w)~K7/@X\",\n",
    "                               db=\"mpdprocessing_new\"))\n",
    "\n",
    "df_process = pd.read_sql(\"SELECT * FROM event;\", engine_process)"
   ]
  },
  {
   "cell_type": "code",
   "execution_count": 16,
   "metadata": {},
   "outputs": [],
   "source": [
    "def url_exists(url):\n",
    "    try:\n",
    "        headers = {'User-Agent': 'Mozilla/5.0 (Macintosh; Intel Mac OS X 10_12_6) AppleWebKit/537.36 (KHTML, like Gecko) Chrome/85.0.4183.102 Safari/537.36'}\n",
    "        response = requests.head(url, headers=headers, timeout=5)\n",
    "        return response.status_code == 200\n",
    "    except:\n",
    "        return False"
   ]
  },
  {
   "cell_type": "code",
   "execution_count": null,
   "metadata": {},
   "outputs": [],
   "source": [
    "url_check = df_process['url'].apply(url_exists)"
   ]
  },
  {
   "cell_type": "code",
   "execution_count": 14,
   "metadata": {},
   "outputs": [],
   "source": [
    "url = df_process['url'].iloc[0]\n",
    "\n",
    "headers = {'User-Agent': 'Mozilla/5.0 (Macintosh; Intel Mac OS X 10_12_6) AppleWebKit/537.36 (KHTML, like Gecko) Chrome/85.0.4183.102 Safari/537.36'}\n",
    "response = requests.head(url, headers=headers, timeout=10)\n"
   ]
  },
  {
   "cell_type": "code",
   "execution_count": null,
   "metadata": {},
   "outputs": [],
   "source": []
  }
 ],
 "metadata": {
  "kernelspec": {
   "display_name": "Python 3",
   "language": "python",
   "name": "python3"
  },
  "language_info": {
   "codemirror_mode": {
    "name": "ipython",
    "version": 3
   },
   "file_extension": ".py",
   "mimetype": "text/x-python",
   "name": "python",
   "nbconvert_exporter": "python",
   "pygments_lexer": "ipython3",
   "version": "3.7.6"
  }
 },
 "nbformat": 4,
 "nbformat_minor": 4
}
